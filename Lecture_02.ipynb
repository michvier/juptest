{
 "cells": [
  {
   "cell_type": "markdown",
   "metadata": {},
   "source": [
    "## Einfache Python Programme"
   ]
  },
  {
   "cell_type": "code",
   "execution_count": 1,
   "metadata": {},
   "outputs": [
    {
     "name": "stdout",
     "output_type": "stream",
     "text": [
      "100.0\n",
      "EUR\n"
     ]
    }
   ],
   "source": [
    "number_items = 5        # Variable number_items stores the number of items you want to buy\n",
    "price_peritem = 20.0    # Variable price_peritem to store the price for the item you want to buy\n",
    "currency = 'EUR'        # Variable currency is informational and stores the currency\n",
    "\n",
    "sum_total = number_items * price_peritem   # Calculate total price and store result in the variable sum\n",
    "\n",
    "print(sum_total)                           # Output total price\n",
    "print(currency)                      # Output currency"
   ]
  },
  {
   "cell_type": "code",
   "execution_count": 2,
   "metadata": {},
   "outputs": [
    {
     "name": "stdout",
     "output_type": "stream",
     "text": [
      "The discount is 5.0 EUR\n",
      "The final price is 95.0 EUR\n"
     ]
    }
   ],
   "source": [
    "discount = 0.05;               # Variable discount stores the discount in percent \n",
    "\n",
    "calculated_discount = sum_total * discount          # Calculation of the discount (in Euro) \n",
    "final_price = sum_total - calculated_discount       # Calculation of the discounted price (stored in the variable final_price)\n",
    "\n",
    "print('The discount is', calculated_discount, 'EUR')      # Output discount (in EUR)\n",
    "print('The final price is', final_price, 'EUR')           # Output reduced price (in EUR)"
   ]
  }
 ],
 "metadata": {
  "kernelspec": {
   "display_name": "Python 3 (ipykernel)",
   "language": "python",
   "name": "python3"
  },
  "language_info": {
   "codemirror_mode": {
    "name": "ipython",
    "version": 3
   },
   "file_extension": ".py",
   "mimetype": "text/x-python",
   "name": "python",
   "nbconvert_exporter": "python",
   "pygments_lexer": "ipython3",
   "version": "3.9.7"
  },
  "vscode": {
   "interpreter": {
    "hash": "58cd1633478c3146b0b115487de3eda097964656d34a88df4671d5bfc6b03104"
   }
  }
 },
 "nbformat": 4,
 "nbformat_minor": 4
}
